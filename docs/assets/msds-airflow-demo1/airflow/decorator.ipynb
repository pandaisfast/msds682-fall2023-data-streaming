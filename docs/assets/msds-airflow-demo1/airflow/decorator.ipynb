{
 "cells": [
  {
   "cell_type": "code",
   "execution_count": 4,
   "metadata": {},
   "outputs": [
    {
     "name": "stdout",
     "output_type": "stream",
     "text": [
      "Something is happening before the function is called.\n",
      "The function is called.\n",
      "Something is happening after the function is called.\n"
     ]
    }
   ],
   "source": [
    "# decorator function g\n",
    "def g(func):\n",
    "    def wrapper():\n",
    "        print(\"Something is happening before the function is called.\")\n",
    "        func()\n",
    "        print(\"Something is happening after the function is called.\")\n",
    "    return wrapper\n",
    "\n",
    "# another function f that you want to decorate with g.\n",
    "@g\n",
    "def f():\n",
    "    print(\"The function is called.\")\n",
    "\n",
    "f()\n",
    "\n",
    "# > Something is happening before the function is called.\n",
    "# > The function is called.\n",
    "# > Something is happening after the function is called.\n",
    "\n"
   ]
  },
  {
   "cell_type": "code",
   "execution_count": 3,
   "metadata": {},
   "outputs": [
    {
     "name": "stdout",
     "output_type": "stream",
     "text": [
      "Something is happening before the function is called.\n",
      "The function is called.\n",
      "Something is happening after the function is called.\n"
     ]
    }
   ],
   "source": [
    "# decorator function g\n",
    "def g(func):\n",
    "    def wrapper():\n",
    "        print(\"Something is happening before the function is called.\")\n",
    "        func()\n",
    "        print(\"Something is happening after the function is called.\")\n",
    "    return wrapper\n",
    "#################################\n",
    "def f():\n",
    "    print(\"The function is called.\")\n",
    "\n",
    "# DO NOT USE Decorator, but passing f to g.\n",
    "decorated_f = g(f)\n",
    "decorated_f() # decorated f\n",
    "\n",
    "# Something is happening before the function is called.\n",
    "# The function is called.\n",
    "# Something is happening after the function is called.\n"
   ]
  },
  {
   "cell_type": "code",
   "execution_count": null,
   "metadata": {},
   "outputs": [],
   "source": []
  }
 ],
 "metadata": {
  "kernelspec": {
   "display_name": "venv",
   "language": "python",
   "name": "python3"
  },
  "language_info": {
   "codemirror_mode": {
    "name": "ipython",
    "version": 3
   },
   "file_extension": ".py",
   "mimetype": "text/x-python",
   "name": "python",
   "nbconvert_exporter": "python",
   "pygments_lexer": "ipython3",
   "version": "3.10.12"
  }
 },
 "nbformat": 4,
 "nbformat_minor": 2
}
