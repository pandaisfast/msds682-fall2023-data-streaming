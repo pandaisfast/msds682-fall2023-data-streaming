{
 "cells": [
  {
   "cell_type": "markdown",
   "metadata": {},
   "source": [
    "# Notebook - Asynchronous Producer"
   ]
  },
  {
   "cell_type": "code",
   "execution_count": 1,
   "metadata": {},
   "outputs": [],
   "source": [
    "# Topic topic_example_v1 has been created\n",
    "\n",
    "\n",
    "from confluent_kafka.admin import AdminClient, NewTopic\n",
    "\n",
    "# in python \n",
    "config = {\n",
    "        'bootstrap.servers': 'SASL_SSL://pkc-lzvrd.us-west4.gcp.confluent.cloud:9092',\n",
    "        'security.protocol': 'SASL_SSL',\n",
    "        'sasl.mechanisms': 'PLAIN',\n",
    "        'sasl.username': 'G2F2E2M6RA53DAHO',\n",
    "        'sasl.password': 'baR8Hz+cZLpGshafWFeir1f97W3a05N0/Lu7NxcL0Uuj4IQC17AtlKk0AS+SMaDC'\n",
    "    }\n"
   ]
  },
  {
   "cell_type": "code",
   "execution_count": 2,
   "metadata": {},
   "outputs": [
    {
     "data": {
      "text/plain": [
       "['demo_3_producer_trial3_applicants',\n",
       " 'test_1_topic',\n",
       " 'demo_3_producer_trial2_soccer',\n",
       " 'demo_3_producer_trial3_evaluation',\n",
       " 'demo_3_producer_trial1',\n",
       " 'demo1_free_text',\n",
       " 'topic_example_v1']"
      ]
     },
     "execution_count": 2,
     "metadata": {},
     "output_type": "execute_result"
    }
   ],
   "source": [
    "from confluent_kafka.admin import AdminClient, NewTopic\n",
    "\n",
    "admin_client = AdminClient(config)\n",
    "\n",
    "# List all topics \n",
    "# https://docs.confluent.io/platform/current/clients/confluent-kafka-python/html/index.html\n",
    "\n",
    "topic_metadata = admin_client.list_topics(timeout=5)\n",
    "list(topic_metadata.topics.keys())"
   ]
  },
  {
   "cell_type": "code",
   "execution_count": 3,
   "metadata": {},
   "outputs": [],
   "source": [
    "# Create callback function\n",
    "\n",
    "# Producer callback\n",
    "def delivery_report(err, msg):\n",
    "    \"\"\"Callback to report the result of the produce operation.\"\"\"\n",
    "    if err is not None:\n",
    "        print(f\"Message delivery failed: {err}\")\n",
    "    else:\n",
    "        print(f\"Message delivered to {msg.topic()} [{msg.partition()}] at offset {msg.offset()}\")\n"
   ]
  },
  {
   "cell_type": "code",
   "execution_count": 4,
   "metadata": {},
   "outputs": [],
   "source": [
    "# Define message to generate\n",
    "\n",
    "import random\n",
    "def produce_messages(producer, topic_name, num_messages=10):\n",
    "    \"\"\"Produce messages with the given format.\"\"\"\n",
    "    names = [\"Alice\", \"Bob\", \"Charlie\"]\n",
    "\n",
    "    for i in range(num_messages):\n",
    "        name = random.choice(names)\n",
    "        lat = random.uniform(-90, 90)\n",
    "        long = random.uniform(-180, 180)\n",
    "        message_key = f\"rider-{name}-{i}\"  # Just as an example. Choose a meaningful key if needed.\n",
    "        message_value = f\"rider {name} requests a car at ({lat:.2f}, {long:.2f})\"\n",
    "        \n",
    "        producer.produce(topic_name, key=message_key, value=message_value, callback=delivery_report)\n",
    "        producer.poll(0.1)  # To trigger the delivery report callback for feedback\n",
    "\n",
    "    producer.flush()  # Ensure all messages are sent\n",
    "\n",
    "## Using producer.flush() before shutting down your producer ensures that all messages are delivered and that any callbacks associated with these messages are executed.\n",
    "\n",
    "\n"
   ]
  },
  {
   "cell_type": "code",
   "execution_count": 5,
   "metadata": {},
   "outputs": [
    {
     "name": "stdout",
     "output_type": "stream",
     "text": [
      "Message delivered to topic_example_v1 [2] at offset 517\n",
      "Message delivered to topic_example_v1 [2] at offset 518\n",
      "Message delivered to topic_example_v1 [1] at offset 534\n",
      "Message delivered to topic_example_v1 [1] at offset 535\n",
      "Message delivered to topic_example_v1 [1] at offset 536\n",
      "Message delivered to topic_example_v1 [1] at offset 537\n",
      "Message delivered to topic_example_v1 [0] at offset 499\n",
      "Message delivered to topic_example_v1 [0] at offset 500\n",
      "Message delivered to topic_example_v1 [2] at offset 519\n",
      "Message delivered to topic_example_v1 [2] at offset 520\n"
     ]
    }
   ],
   "source": [
    "from confluent_kafka import Producer\n",
    "\n",
    "## main: Producer\n",
    "producer = Producer(config)\n",
    "topic_name = \"topic_example_v1\"\n",
    "produce_messages(producer, topic_name)\n",
    "\n"
   ]
  },
  {
   "cell_type": "code",
   "execution_count": null,
   "metadata": {},
   "outputs": [],
   "source": []
  }
 ],
 "metadata": {
  "kernelspec": {
   "display_name": "venv",
   "language": "python",
   "name": "python3"
  },
  "language_info": {
   "codemirror_mode": {
    "name": "ipython",
    "version": 3
   },
   "file_extension": ".py",
   "mimetype": "text/x-python",
   "name": "python",
   "nbconvert_exporter": "python",
   "pygments_lexer": "ipython3",
   "version": "3.10.12"
  },
  "orig_nbformat": 4
 },
 "nbformat": 4,
 "nbformat_minor": 2
}
